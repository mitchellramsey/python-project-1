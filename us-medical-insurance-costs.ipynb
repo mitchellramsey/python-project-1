{
 "cells": [
  {
   "cell_type": "markdown",
   "metadata": {},
   "source": [
    "# U.S. Medical Insurance Costs"
   ]
  },
  {
   "cell_type": "markdown",
   "metadata": {},
   "source": [
    "In this project, a CSV with medical insurance costs will be analyzed using Python fundamentals. The goal of this project will be to analyze and compare medical costs based on region and the factors that influence their differences. The CSV file will be imported with the `csv` library."
   ]
  },
  {
   "cell_type": "code",
   "execution_count": 8,
   "metadata": {},
   "outputs": [],
   "source": [
    "#import csv\n",
    "import csv"
   ]
  },
  {
   "cell_type": "markdown",
   "metadata": {},
   "source": [
    "The next step is to look through the **insurance.csv** to get familiar with the data types, identify any missing values, and the names of the columns. This .csv file does not appear to have any missing values. \n",
    "\n",
    "SInce this analysis will be conducted by regions. There will be four dictionaries created. One for each region:\n",
    "- Northeast\n",
    "- Northwest\n",
    "- Southeast\n",
    "- Southwest\n",
    "\n",
    "Each dictionary will contain the following lists which will be created in a helper function below:\n",
    "- Age\n",
    "- Sex\n",
    "- BMI\n",
    "- Number of Children\n",
    "- Smoker Status\n",
    "- Insurance Cost"
   ]
  },
  {
   "cell_type": "code",
   "execution_count": 10,
   "metadata": {},
   "outputs": [],
   "source": [
    "northeast = {\n",
    "    'age': [],\n",
    "    'sex': [],\n",
    "    'bmi': [],\n",
    "    'num_children': [],\n",
    "    'smoker_status': [],\n",
    "    'insurance_cost': []\n",
    "}\n",
    "northwest = {\n",
    "    'age': [],\n",
    "    'sex': [],\n",
    "    'bmi': [],\n",
    "    'num_children': [],\n",
    "    'smoker_status': [],\n",
    "    'insurance_cost': []\n",
    "}\n",
    "southeast = {\n",
    "    'age': [],\n",
    "    'sex': [],\n",
    "    'bmi': [],\n",
    "    'num_children': [],\n",
    "    'smoker_status': [],\n",
    "    'insurance_cost': []\n",
    "}\n",
    "southwest = {\n",
    "    'age': [],\n",
    "    'sex': [],\n",
    "    'bmi': [],\n",
    "    'num_children': [],\n",
    "    'smoker_status': [],\n",
    "    'insurance_cost': []\n",
    "}"
   ]
  },
  {
   "cell_type": "markdown",
   "metadata": {},
   "source": [
    "The following helper function will help break all of csv data into the respective lists"
   ]
  },
  {
   "cell_type": "code",
   "execution_count": 18,
   "metadata": {},
   "outputs": [],
   "source": [
    "def append_row_to_dict(region_dict, row):\n",
    "    for item in row:\n",
    "        if(item == 'age'):\n",
    "            region_dict['age'].append(row[item])\n",
    "        elif(item == 'sex'):\n",
    "            region_dict['sex'].append(row[item])\n",
    "        elif(item == 'bmi'):\n",
    "            region_dict['bmi'].append(row[item])\n",
    "        elif(item == 'smoker'):\n",
    "            region_dict['smoker_status'].append(row[item])\n",
    "        elif(item == 'children'):\n",
    "            region_dict['num_children'].append(row[item])\n",
    "        elif(item == 'charges'):\n",
    "            region_dict['insurance_cost'].append(row[item])\n",
    "\n",
    "def load_list_data_and_create_dictionaries(csv_file, region_dict, region_name):\n",
    "    with open(csv_file) as file_info:\n",
    "        csv_dict = csv.DictReader(file_info)\n",
    "        for row in csv_dict:\n",
    "            if(row['region'] == region_name):\n",
    "                append_row_to_dict(region_dict, row)"
   ]
  },
  {
   "cell_type": "code",
   "execution_count": 21,
   "metadata": {},
   "outputs": [],
   "source": [
    "region_dict_list = [\n",
    "    (northeast, 'northeast'), \n",
    "    (northwest, 'northwest'), \n",
    "    (southeast, 'southeast'), \n",
    "    (southwest, 'southwest')\n",
    "]\n",
    "\n",
    "for region_dict, region_name in region_dict_list:\n",
    "    load_list_data_and_create_dictionaries('insurance.csv', region_dict, region_name)"
   ]
  },
  {
   "cell_type": "markdown",
   "metadata": {},
   "source": [
    "Now that the data is segmented into lists. It is ready for analysis. The goal of this analysis is determine which region has the most expensive medical costs. This will be completed through the following analyses:\n",
    "- Average cost by region\n",
    "- Average number of smokers (1 being all are smokers, 0 being all are non-smokers)\n",
    "- Average number of kids\n",
    "- Average age\n",
    "- Female to male ratio\n",
    "\n",
    "These analyses will be created as methods for the class `RegionalCostsAnalysis`. "
   ]
  },
  {
   "cell_type": "code",
   "execution_count": 26,
   "metadata": {},
   "outputs": [
    {
     "name": "stdout",
     "output_type": "stream",
     "text": [
      "northeast\n",
      "northwest\n",
      "southeast\n",
      "southwest\n"
     ]
    }
   ],
   "source": [
    "\n",
    "    "
   ]
  },
  {
   "cell_type": "code",
   "execution_count": 67,
   "metadata": {},
   "outputs": [],
   "source": [
    "class RegionalCostsAnalysis:\n",
    "    def __init__(self, region_dict_name_tuple):\n",
    "        self.region_dict_list = []\n",
    "        self.region_name_list = []\n",
    "        for region_dict, region_name in region_dict_name_tuple:\n",
    "            self.region_dict_list.append(region_dict)\n",
    "            self.region_name_list.append(region_name)\n",
    "    \n",
    "    def compute_averages(self, metric):\n",
    "        average_values_by_region = {}\n",
    "        for index, region_dict in enumerate(self.region_dict_list):\n",
    "            region_len = len(region_dict[metric])\n",
    "            total_value = 0\n",
    "            for metric_val in region_dict[metric]:\n",
    "                total_value += float(metric_val)\n",
    "            average_metric_val = round(total_value / region_len, 3)\n",
    "            average_values_by_region[self.region_name_list[index]] = average_metric_val\n",
    "        \n",
    "        return average_values_by_region\n",
    "    \n",
    "    def calculate_ratios(self, metric, numerator):\n",
    "        ratios = {}\n",
    "        for index, region_dict in enumerate(self.region_dict_list):\n",
    "            numerator_count = 0\n",
    "            denominator_count = 0\n",
    "            for metric_val in region_dict[metric]:\n",
    "                if metric_val == numerator:\n",
    "                    numerator_count += 1\n",
    "                else:\n",
    "                    denominator_count += 1\n",
    "            ratio = round(numerator_count / denominator_count, 3)\n",
    "            ratios[self.region_name_list[index]] = ratio\n",
    "        return ratios"
   ]
  },
  {
   "cell_type": "code",
   "execution_count": 68,
   "metadata": {},
   "outputs": [
    {
     "data": {
      "text/plain": [
       "{'northeast': 39.269,\n",
       " 'northwest': 39.197,\n",
       " 'southeast': 38.94,\n",
       " 'southwest': 39.455}"
      ]
     },
     "execution_count": 68,
     "metadata": {},
     "output_type": "execute_result"
    }
   ],
   "source": [
    "region_analysis = RegionalCostsAnalysis(region_dict_list)\n",
    "region_analysis.compute_averages('age')"
   ]
  },
  {
   "cell_type": "markdown",
   "metadata": {},
   "source": [
    "The first analysis conducted is based on the average age in each region. Normally as individuals get older, their healthcare costs start to rise due to more frequent doctor visits. The **southeast** region comes in with the lowest average age at **38.940**, and the **southwest** is the highest at **39.455**."
   ]
  },
  {
   "cell_type": "code",
   "execution_count": 69,
   "metadata": {},
   "outputs": [
    {
     "data": {
      "text/plain": [
       "{'northeast': 0.988,\n",
       " 'northwest': 1.019,\n",
       " 'southeast': 0.926,\n",
       " 'southwest': 0.994}"
      ]
     },
     "execution_count": 69,
     "metadata": {},
     "output_type": "execute_result"
    }
   ],
   "source": [
    "region_analysis.calculate_ratios('sex', 'female')"
   ]
  },
  {
   "cell_type": "markdown",
   "metadata": {},
   "source": [
    "The next analysis conducted is on gender. Normally, women have more expensive health care costs simply due to pregnancy care. The **northwest** is the only region to have more women than mean with it's ratio returning over 1.000. The **southeast** contains the lowest ratio of women."
   ]
  },
  {
   "cell_type": "code",
   "execution_count": 70,
   "metadata": {},
   "outputs": [
    {
     "data": {
      "text/plain": [
       "{'northeast': 29.174,\n",
       " 'northwest': 29.2,\n",
       " 'southeast': 33.356,\n",
       " 'southwest': 30.597}"
      ]
     },
     "execution_count": 70,
     "metadata": {},
     "output_type": "execute_result"
    }
   ],
   "source": [
    "region_analysis.compute_averages('bmi')"
   ]
  },
  {
   "cell_type": "markdown",
   "metadata": {},
   "source": [
    "The third analysis is the average body mass index (BMI). Individuals with a larger BMI normally have higher health care costs because of increased health risks with obesity. It should be noted that athletes have skewed BMI's as their increased muscle definition can signal obesity when that may not be exactly true. So while the **southeast** has the highest BMI at **33.356**, there could potentially be a larger number of athletes in this region."
   ]
  },
  {
   "cell_type": "code",
   "execution_count": 71,
   "metadata": {},
   "outputs": [
    {
     "data": {
      "text/plain": [
       "{'northeast': 1.046,\n",
       " 'northwest': 1.148,\n",
       " 'southeast': 1.049,\n",
       " 'southwest': 1.142}"
      ]
     },
     "execution_count": 71,
     "metadata": {},
     "output_type": "execute_result"
    }
   ],
   "source": [
    "region_analysis.compute_averages('num_children')"
   ]
  },
  {
   "cell_type": "markdown",
   "metadata": {},
   "source": [
    "The fourth analysis is the average number of children. Normally, health costs will increase when families have children, but the increases are usually very minimal after the first child. This analysis shows that all four regions are within **0.102** of each other and all four regions average at least one child. This analysis likely has little effect on the determining the differences in cost by region."
   ]
  },
  {
   "cell_type": "code",
   "execution_count": 72,
   "metadata": {},
   "outputs": [
    {
     "data": {
      "text/plain": [
       "{'northeast': 0.261,\n",
       " 'northwest': 0.217,\n",
       " 'southeast': 0.333,\n",
       " 'southwest': 0.217}"
      ]
     },
     "execution_count": 72,
     "metadata": {},
     "output_type": "execute_result"
    }
   ],
   "source": [
    "region_analysis.calculate_ratios('smoker_status', 'yes')"
   ]
  },
  {
   "cell_type": "markdown",
   "metadata": {},
   "source": [
    "The fifth analysis is ratio of smokers to non-smokers. Smokers have higher healthcare costs due to the well documented health risks that are associated with cigarette smoking. The **southeast** region has the highest ratio of smokers as there is a smoker for every three non-smokers in the region."
   ]
  },
  {
   "cell_type": "code",
   "execution_count": 73,
   "metadata": {},
   "outputs": [
    {
     "data": {
      "text/plain": [
       "{'northeast': 13406.385,\n",
       " 'northwest': 12417.575,\n",
       " 'southeast': 14735.411,\n",
       " 'southwest': 12346.937}"
      ]
     },
     "execution_count": 73,
     "metadata": {},
     "output_type": "execute_result"
    }
   ],
   "source": [
    "region_analysis.compute_averages('insurance_cost')"
   ]
  },
  {
   "cell_type": "markdown",
   "metadata": {},
   "source": [
    "The final analysis here is the insurance cost. The **southeast** region is the most expensive compared to the rest. The **southeast** lead the four regions in smoker status and bmi, likely indicating that one or both of those measures play an influence in determining insurance cost.\n",
    "\n",
    "The **northeast** region has the second highest insurance cost average. Focusing on the two categories that would be influencing the high costs for the **southeast**, the **northeast** has the lowest BMI out of the four regions and the second highest smoker status ratio. Therefore, the smoker status is likely the biggest influence on insurance cost. \n",
    "\n",
    "The **northwest** and **southwest** had identical ratios in smoker status; however, the northwest is slightly higher with its average insurance cost. The **northwest** has the highest ratio of women which can be the factor that makes the average healthcare costs slightly higher.\n",
    "\n",
    "Based on this simple analysis, more research would be required to det"
   ]
  }
 ],
 "metadata": {
  "kernelspec": {
   "display_name": "Python 3",
   "language": "python",
   "name": "python3"
  },
  "language_info": {
   "codemirror_mode": {
    "name": "ipython",
    "version": 3
   },
   "file_extension": ".py",
   "mimetype": "text/x-python",
   "name": "python",
   "nbconvert_exporter": "python",
   "pygments_lexer": "ipython3",
   "version": "3.8.8"
  }
 },
 "nbformat": 4,
 "nbformat_minor": 4
}
